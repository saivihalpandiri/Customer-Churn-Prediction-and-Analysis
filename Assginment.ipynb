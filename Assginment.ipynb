{
 "cells": [
  {
   "cell_type": "markdown",
   "id": "eb044d6a-1718-408b-9566-2ebc1e1a41d7",
   "metadata": {},
   "source": [
    "# Importing All the Required Packages"
   ]
  },
  {
   "cell_type": "code",
   "execution_count": 37,
   "id": "15771d74-aaa0-47fd-826a-b542e02c87f6",
   "metadata": {},
   "outputs": [],
   "source": [
    "import pandas as pd\n",
    "import numpy as np\n",
    "import matplotlib.pyplot as plt\n",
    "import seaborn as sns\n",
    "from sklearn.model_selection import train_test_split\n",
    "from sklearn.preprocessing import StandardScaler, LabelEncoder\n",
    "from sklearn.linear_model import LogisticRegression\n",
    "from sklearn.tree import DecisionTreeClassifier\n",
    "from sklearn.ensemble import RandomForestClassifier\n",
    "from sklearn.metrics import accuracy_score, precision_score, recall_score, f1_score, confusion_matrix, classification_report"
   ]
  },
  {
   "cell_type": "markdown",
   "id": "990d17cb-3d5c-45fb-8837-bc3c185c6711",
   "metadata": {},
   "source": [
    "#  Load Dataset"
   ]
  },
  {
   "cell_type": "code",
   "execution_count": 38,
   "id": "80608127-85a5-40fa-8233-79d3eb09e06a",
   "metadata": {},
   "outputs": [],
   "source": [
    "df = pd.read_excel('Assignment_Data.xlsx')"
   ]
  },
  {
   "cell_type": "code",
   "execution_count": 39,
   "id": "a04d66f1-12b6-44d4-bdbe-dc37f3b04624",
   "metadata": {},
   "outputs": [
    {
     "data": {
      "text/html": [
       "<div>\n",
       "<style scoped>\n",
       "    .dataframe tbody tr th:only-of-type {\n",
       "        vertical-align: middle;\n",
       "    }\n",
       "\n",
       "    .dataframe tbody tr th {\n",
       "        vertical-align: top;\n",
       "    }\n",
       "\n",
       "    .dataframe thead th {\n",
       "        text-align: right;\n",
       "    }\n",
       "</style>\n",
       "<table border=\"1\" class=\"dataframe\">\n",
       "  <thead>\n",
       "    <tr style=\"text-align: right;\">\n",
       "      <th></th>\n",
       "      <th>CustomerID</th>\n",
       "      <th>Gender</th>\n",
       "      <th>Age</th>\n",
       "      <th>Tenure</th>\n",
       "      <th>MonthlyCharges</th>\n",
       "      <th>TotalCharges</th>\n",
       "      <th>PaymentMethod</th>\n",
       "      <th>Churn</th>\n",
       "      <th>ServiceUsage1</th>\n",
       "      <th>ServiceUsage2</th>\n",
       "      <th>ServiceUsage3</th>\n",
       "    </tr>\n",
       "  </thead>\n",
       "  <tbody>\n",
       "    <tr>\n",
       "      <th>0</th>\n",
       "      <td>CUST0001</td>\n",
       "      <td>Male</td>\n",
       "      <td>20</td>\n",
       "      <td>5</td>\n",
       "      <td>62.31</td>\n",
       "      <td>2950.41</td>\n",
       "      <td>Credit Card</td>\n",
       "      <td>Yes</td>\n",
       "      <td>59</td>\n",
       "      <td>20</td>\n",
       "      <td>63</td>\n",
       "    </tr>\n",
       "    <tr>\n",
       "      <th>1</th>\n",
       "      <td>CUST0002</td>\n",
       "      <td>Female</td>\n",
       "      <td>25</td>\n",
       "      <td>23</td>\n",
       "      <td>118.96</td>\n",
       "      <td>7460.55</td>\n",
       "      <td>Bank Transfer</td>\n",
       "      <td>No</td>\n",
       "      <td>42</td>\n",
       "      <td>41</td>\n",
       "      <td>136</td>\n",
       "    </tr>\n",
       "    <tr>\n",
       "      <th>2</th>\n",
       "      <td>CUST0003</td>\n",
       "      <td>Female</td>\n",
       "      <td>25</td>\n",
       "      <td>39</td>\n",
       "      <td>69.20</td>\n",
       "      <td>3064.73</td>\n",
       "      <td>Bank Transfer</td>\n",
       "      <td>No</td>\n",
       "      <td>65</td>\n",
       "      <td>0</td>\n",
       "      <td>165</td>\n",
       "    </tr>\n",
       "    <tr>\n",
       "      <th>3</th>\n",
       "      <td>CUST0004</td>\n",
       "      <td>Male</td>\n",
       "      <td>56</td>\n",
       "      <td>47</td>\n",
       "      <td>145.90</td>\n",
       "      <td>2612.22</td>\n",
       "      <td>Cash</td>\n",
       "      <td>No</td>\n",
       "      <td>64</td>\n",
       "      <td>40</td>\n",
       "      <td>169</td>\n",
       "    </tr>\n",
       "    <tr>\n",
       "      <th>4</th>\n",
       "      <td>CUST0005</td>\n",
       "      <td>Female</td>\n",
       "      <td>33</td>\n",
       "      <td>69</td>\n",
       "      <td>88.51</td>\n",
       "      <td>4833.99</td>\n",
       "      <td>Cash</td>\n",
       "      <td>No</td>\n",
       "      <td>62</td>\n",
       "      <td>1</td>\n",
       "      <td>54</td>\n",
       "    </tr>\n",
       "    <tr>\n",
       "      <th>...</th>\n",
       "      <td>...</td>\n",
       "      <td>...</td>\n",
       "      <td>...</td>\n",
       "      <td>...</td>\n",
       "      <td>...</td>\n",
       "      <td>...</td>\n",
       "      <td>...</td>\n",
       "      <td>...</td>\n",
       "      <td>...</td>\n",
       "      <td>...</td>\n",
       "      <td>...</td>\n",
       "    </tr>\n",
       "    <tr>\n",
       "      <th>195</th>\n",
       "      <td>CUST0196</td>\n",
       "      <td>Male</td>\n",
       "      <td>32</td>\n",
       "      <td>61</td>\n",
       "      <td>113.54</td>\n",
       "      <td>9607.02</td>\n",
       "      <td>Credit Card</td>\n",
       "      <td>Yes</td>\n",
       "      <td>80</td>\n",
       "      <td>39</td>\n",
       "      <td>147</td>\n",
       "    </tr>\n",
       "    <tr>\n",
       "      <th>196</th>\n",
       "      <td>CUST0197</td>\n",
       "      <td>Male</td>\n",
       "      <td>47</td>\n",
       "      <td>67</td>\n",
       "      <td>133.12</td>\n",
       "      <td>4380.96</td>\n",
       "      <td>PayPal</td>\n",
       "      <td>No</td>\n",
       "      <td>21</td>\n",
       "      <td>46</td>\n",
       "      <td>62</td>\n",
       "    </tr>\n",
       "    <tr>\n",
       "      <th>197</th>\n",
       "      <td>CUST0198</td>\n",
       "      <td>Female</td>\n",
       "      <td>61</td>\n",
       "      <td>9</td>\n",
       "      <td>96.09</td>\n",
       "      <td>1599.30</td>\n",
       "      <td>Credit Card</td>\n",
       "      <td>No</td>\n",
       "      <td>56</td>\n",
       "      <td>23</td>\n",
       "      <td>154</td>\n",
       "    </tr>\n",
       "    <tr>\n",
       "      <th>198</th>\n",
       "      <td>CUST0199</td>\n",
       "      <td>Male</td>\n",
       "      <td>24</td>\n",
       "      <td>45</td>\n",
       "      <td>142.44</td>\n",
       "      <td>3527.95</td>\n",
       "      <td>PayPal</td>\n",
       "      <td>Yes</td>\n",
       "      <td>69</td>\n",
       "      <td>15</td>\n",
       "      <td>118</td>\n",
       "    </tr>\n",
       "    <tr>\n",
       "      <th>199</th>\n",
       "      <td>CUST0200</td>\n",
       "      <td>Female</td>\n",
       "      <td>67</td>\n",
       "      <td>34</td>\n",
       "      <td>128.86</td>\n",
       "      <td>2008.19</td>\n",
       "      <td>PayPal</td>\n",
       "      <td>Yes</td>\n",
       "      <td>2</td>\n",
       "      <td>42</td>\n",
       "      <td>167</td>\n",
       "    </tr>\n",
       "  </tbody>\n",
       "</table>\n",
       "<p>200 rows × 11 columns</p>\n",
       "</div>"
      ],
      "text/plain": [
       "    CustomerID  Gender  Age  Tenure  MonthlyCharges  TotalCharges  \\\n",
       "0     CUST0001    Male   20       5           62.31       2950.41   \n",
       "1     CUST0002  Female   25      23          118.96       7460.55   \n",
       "2     CUST0003  Female   25      39           69.20       3064.73   \n",
       "3     CUST0004    Male   56      47          145.90       2612.22   \n",
       "4     CUST0005  Female   33      69           88.51       4833.99   \n",
       "..         ...     ...  ...     ...             ...           ...   \n",
       "195   CUST0196    Male   32      61          113.54       9607.02   \n",
       "196   CUST0197    Male   47      67          133.12       4380.96   \n",
       "197   CUST0198  Female   61       9           96.09       1599.30   \n",
       "198   CUST0199    Male   24      45          142.44       3527.95   \n",
       "199   CUST0200  Female   67      34          128.86       2008.19   \n",
       "\n",
       "     PaymentMethod Churn  ServiceUsage1  ServiceUsage2  ServiceUsage3  \n",
       "0      Credit Card   Yes             59             20             63  \n",
       "1    Bank Transfer    No             42             41            136  \n",
       "2    Bank Transfer    No             65              0            165  \n",
       "3             Cash    No             64             40            169  \n",
       "4             Cash    No             62              1             54  \n",
       "..             ...   ...            ...            ...            ...  \n",
       "195    Credit Card   Yes             80             39            147  \n",
       "196         PayPal    No             21             46             62  \n",
       "197    Credit Card    No             56             23            154  \n",
       "198         PayPal   Yes             69             15            118  \n",
       "199         PayPal   Yes              2             42            167  \n",
       "\n",
       "[200 rows x 11 columns]"
      ]
     },
     "execution_count": 39,
     "metadata": {},
     "output_type": "execute_result"
    }
   ],
   "source": [
    "df"
   ]
  },
  {
   "cell_type": "markdown",
   "id": "b6a34c03-8dd9-43dc-b19f-4b2385ec9bb9",
   "metadata": {},
   "source": [
    "# Step 1. Exploratory Data Analysis (EDA)"
   ]
  },
  {
   "cell_type": "code",
   "execution_count": 40,
   "id": "395fa99f-d8a8-432a-b8ec-1536fd3f8934",
   "metadata": {},
   "outputs": [],
   "source": [
    "# Check for missing values\n",
    "missing_values = df.isnull().sum()"
   ]
  },
  {
   "cell_type": "code",
   "execution_count": 41,
   "id": "4558501d-8cf8-4c42-a46d-9050fda15c43",
   "metadata": {},
   "outputs": [],
   "source": [
    "# Handle missing values (if any)\n",
    "df = df.dropna()"
   ]
  },
  {
   "cell_type": "code",
   "execution_count": 42,
   "id": "3d2d1609-c655-446b-8082-af6aec5bec2f",
   "metadata": {},
   "outputs": [],
   "source": [
    "# Convert TotalCharges to numeric\n",
    "df['TotalCharges'] = pd.to_numeric(df['TotalCharges'], errors='coerce')"
   ]
  },
  {
   "cell_type": "code",
   "execution_count": 43,
   "id": "d3d77252-4d27-499d-90f4-cb2d91d533ee",
   "metadata": {},
   "outputs": [],
   "source": [
    "df = df.dropna(subset=['TotalCharges'])"
   ]
  },
  {
   "cell_type": "code",
   "execution_count": 44,
   "id": "7b605627-2fd2-400c-943e-52e116ddf490",
   "metadata": {},
   "outputs": [
    {
     "data": {
      "image/png": "[encoded data removed]",
      "text/plain": [
       "<Figure size 640x480 with 1 Axes>"
      ]
     },
     "metadata": {},
     "output_type": "display_data"
    }
   ],
   "source": [
    "# Perform Univariate Analysis\n",
    "sns.countplot(data=df, x='Churn')\n",
    "plt.title('Churn Distribution')\n",
    "plt.show()"
   ]
  },
  {
   "cell_type": "code",
   "execution_count": 45,
   "id": "9488a618-c3f6-4602-9a6a-aafc8d0b1b30",
   "metadata": {},
   "outputs": [
    {
     "data": {
      "image/png": "[encoded data removed]",
      "text/plain": [
       "<Figure size 640x480 with 1 Axes>"
      ]
     },
     "metadata": {},
     "output_type": "display_data"
    }
   ],
   "source": [
    "# Perform Bivariate Analysis\n",
    "sns.boxplot(data=df, x='Churn', y='MonthlyCharges')\n",
    "plt.title('Monthly Charges by Churn')\n",
    "plt.show()"
   ]
  },
  {
   "cell_type": "markdown",
   "id": "e19b09f2-c97e-413e-9d74-3fbb84f09571",
   "metadata": {},
   "source": [
    "# Step 2. Feature Engineering"
   ]
  },
  {
   "cell_type": "code",
   "execution_count": 46,
   "id": "0ca83e69-887d-4e2f-af38-52504609c80e",
   "metadata": {},
   "outputs": [],
   "source": [
    "df['AverageSpendPerMonth'] = df['TotalCharges'] / df['Tenure']"
   ]
  },
  {
   "cell_type": "markdown",
   "id": "94fb3f93-b4ed-4e08-a04a-f5fb7d56a185",
   "metadata": {},
   "source": [
    "##  Using Label Encoder converting categorical variables into numeric"
   ]
  },
  {
   "cell_type": "code",
   "execution_count": 47,
   "id": "4b1b9483-7308-467d-bf56-311fdd2d27f5",
   "metadata": {},
   "outputs": [],
   "source": [
    "le = LabelEncoder()\n",
    "df['Gender'] = le.fit_transform(df['Gender'])\n",
    "df['PaymentMethod'] = le.fit_transform(df['PaymentMethod'])\n",
    "df['Churn'] = le.fit_transform(df['Churn'])"
   ]
  },
  {
   "cell_type": "markdown",
   "id": "b60c5f2a-b265-49fc-89af-ec4669904e42",
   "metadata": {},
   "source": [
    "## using StandardScaler"
   ]
  },
  {
   "cell_type": "code",
   "execution_count": 48,
   "id": "b97fef1b-e9dc-4853-a618-0881a11f1072",
   "metadata": {},
   "outputs": [],
   "source": [
    "scaler = StandardScaler()"
   ]
  },
  {
   "cell_type": "code",
   "execution_count": 49,
   "id": "beb2e6bd-ba9a-4430-9c2b-5a33787d5f99",
   "metadata": {},
   "outputs": [],
   "source": [
    "num_cols = ['Age', 'Tenure', 'MonthlyCharges', 'TotalCharges', 'AverageSpendPerMonth']\n",
    "df[num_cols] = scaler.fit_transform(df[num_cols])"
   ]
  },
  {
   "cell_type": "markdown",
   "id": "8d65e5de-58aa-4174-919e-eb293d8e8ded",
   "metadata": {},
   "source": [
    "# Step 3. Predictive Modeling"
   ]
  },
  {
   "cell_type": "code",
   "execution_count": 50,
   "id": "fcb3eadd-42fc-4c5e-947b-910dc9040838",
   "metadata": {},
   "outputs": [],
   "source": [
    "X = df.drop(columns=['CustomerID', 'Churn'])\n",
    "y = df['Churn']"
   ]
  },
  {
   "cell_type": "markdown",
   "id": "fcb6d24e-838f-4255-bf75-6eaacf2e5910",
   "metadata": {},
   "source": [
    "## Traing the Model"
   ]
  },
  {
   "cell_type": "code",
   "execution_count": 51,
   "id": "e186e136-bce3-4216-ac70-fb9979efc614",
   "metadata": {},
   "outputs": [],
   "source": [
    "X_train, X_test, y_train, y_test = train_test_split(X, y, test_size=0.2, random_state=42)"
   ]
  },
  {
   "cell_type": "markdown",
   "id": "eefd218e-abdf-49ef-819e-74a5ea2299da",
   "metadata": {},
   "source": [
    "## Usage Of SuperVised Machine Learning Algorithms"
   ]
  },
  {
   "cell_type": "code",
   "execution_count": 52,
   "id": "23bb553d-3af8-4954-ad0e-7d1ad40e2edc",
   "metadata": {},
   "outputs": [],
   "source": [
    "models = {'Logistic Regression': LogisticRegression(),'Decision Tree': DecisionTreeClassifier(),'Random Forest': RandomForestClassifier()}\n",
    "results = {}"
   ]
  },
  {
   "cell_type": "code",
   "execution_count": 53,
   "id": "c82f14a3-55a2-4218-a5f7-692ff384cbfb",
   "metadata": {},
   "outputs": [],
   "source": [
    "import warnings\n",
    "warnings.filterwarnings('ignore')"
   ]
  },
  {
   "cell_type": "code",
   "execution_count": 54,
   "id": "4367488d-6839-41c1-a240-91731c85eece",
   "metadata": {},
   "outputs": [],
   "source": [
    "for name, model in models.items():\n",
    "    model.fit(X_train, y_train)\n",
    "    y_pred = model.predict(X_test)\n",
    "    results[name] = {\n",
    "        'Accuracy': accuracy_score(y_test, y_pred),\n",
    "        'Precision': precision_score(y_test, y_pred),\n",
    "        'Recall': recall_score(y_test, y_pred),\n",
    "        'F1-Score': f1_score(y_test, y_pred)\n",
    "    }"
   ]
  },
  {
   "cell_type": "code",
   "execution_count": 55,
   "id": "e81589de-1947-4686-838a-3958064fe9f9",
   "metadata": {},
   "outputs": [
    {
     "name": "stdout",
     "output_type": "stream",
     "text": [
      "\n",
      "Random Forest Classification Report:\n",
      "               precision    recall  f1-score   support\n",
      "\n",
      "           0       0.77      0.97      0.86        31\n",
      "           1       0.00      0.00      0.00         9\n",
      "\n",
      "    accuracy                           0.75        40\n",
      "   macro avg       0.38      0.48      0.43        40\n",
      "weighted avg       0.60      0.75      0.66        40\n",
      "\n"
     ]
    }
   ],
   "source": [
    "  print(f\"\\n{name} Classification Report:\\n\", classification_report(y_test, y_pred))"
   ]
  },
  {
   "cell_type": "markdown",
   "id": "4cd86719-0be0-4963-9fb8-b3f9ef304de7",
   "metadata": {},
   "source": [
    "# # Best model (Random Forest, as an example)"
   ]
  },
  {
   "cell_type": "code",
   "execution_count": 57,
   "id": "24ba5521-b247-440f-863f-fb26558eb89d",
   "metadata": {},
   "outputs": [],
   "source": [
    "best_model = models['Random Forest']"
   ]
  },
  {
   "cell_type": "code",
   "execution_count": 58,
   "id": "7de16e2f-ba95-4b5f-b482-1a4570351851",
   "metadata": {},
   "outputs": [
    {
     "data": {
      "image/png": "[encoded data removed]",
      "text/plain": [
       "<Figure size 640x480 with 1 Axes>"
      ]
     },
     "metadata": {},
     "output_type": "display_data"
    }
   ],
   "source": [
    "# Feature Importance\n",
    "importances = best_model.feature_importances_\n",
    "plt.barh(X.columns, importances)\n",
    "plt.title('Feature Importances')\n",
    "plt.show()"
   ]
  },
  {
   "cell_type": "markdown",
   "id": "b0a8d65c-1b4e-4d25-8a23-f9c8614eabd9",
   "metadata": {},
   "source": [
    "# Step 4: Recommendation Engine"
   ]
  },
  {
   "cell_type": "code",
   "execution_count": 59,
   "id": "4f93db93-fbef-4520-849a-d43507653166",
   "metadata": {},
   "outputs": [],
   "source": [
    "from sklearn.metrics.pairwise import cosine_similarity"
   ]
  },
  {
   "cell_type": "code",
   "execution_count": 60,
   "id": "140f51fc-5dcb-4aad-8c8a-0d4d92558a3f",
   "metadata": {},
   "outputs": [],
   "source": [
    "# Assuming 'ServiceUsage1', 'ServiceUsage2', 'ServiceUsage3' are usage features\n",
    "usage_data = df[['ServiceUsage1', 'ServiceUsage2', 'ServiceUsage3']]\n",
    "similarity = cosine_similarity(usage_data)"
   ]
  },
  {
   "cell_type": "code",
   "execution_count": 61,
   "id": "c7b3a4bf-62f3-4da5-804b-4e48b71afb8e",
   "metadata": {},
   "outputs": [
    {
     "name": "stdout",
     "output_type": "stream",
     "text": [
      "Recommendation Engine Output (Sample): [[ 15]\n",
      " [ 69]\n",
      " [ 90]\n",
      " [149]\n",
      " [ 95]]\n"
     ]
    }
   ],
   "source": [
    "recommendations = np.argsort(similarity, axis=1)[:, -2:-1]\n",
    "print(\"Recommendation Engine Output (Sample):\", recommendations[:5])"
   ]
  }
 ],
 "metadata": {
  "kernelspec": {
   "display_name": "Python 3 (ipykernel)",
   "language": "python",
   "name": "python3"
  },
  "language_info": {
   "codemirror_mode": {
    "name": "ipython",
    "version": 3
   },
   "file_extension": ".py",
   "mimetype": "text/x-python",
   "name": "python",
   "nbconvert_exporter": "python",
   "pygments_lexer": "ipython3",
   "version": "3.12.7"
  }
 },
 "nbformat": 4,
 "nbformat_minor": 5
}
